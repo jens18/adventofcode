{
 "cells": [
  {
   "cell_type": "code",
   "execution_count": null,
   "metadata": {},
   "outputs": [],
   "source": [
    "# # AOC 2020: https://adventofcode.com/2020/day/6"
   ]
  },
  {
   "cell_type": "code",
   "execution_count": 51,
   "metadata": {},
   "outputs": [
    {
     "name": "stdout",
     "output_type": "stream",
     "text": [
      "11\n",
      "6\n"
     ]
    }
   ],
   "source": [
    "\n",
    "quest_sample = \"\"\"abc\n",
    "\n",
    "a\n",
    "b\n",
    "c\n",
    "\n",
    "ab\n",
    "ac\n",
    "\n",
    "a\n",
    "a\n",
    "a\n",
    "a\n",
    "\n",
    "b\n",
    "\n",
    "\"\"\"\n",
    "\n",
    "# iterate over string containing multiple lines\n",
    "\n",
    "def parse_quest_db_part1(quest_list, quest_db):\n",
    "    ans = {}\n",
    "    for l in quest_db.splitlines():\n",
    "        #print(l)\n",
    "        # detect empty line -> end of a group\n",
    "        if len(l) == 0:\n",
    "            quest_list.append(ans)\n",
    "            ans = {}\n",
    "            #print(\"new group\")\n",
    "        else:\n",
    "            for c in l:\n",
    "                ans[c] = 1\n",
    "                #print(ans)\n",
    "    # last entry does not have a following empty line\n",
    "    quest_list.append(ans)\n",
    "    \n",
    "def parse_quest_db_part2(quest_list, quest_db):\n",
    "    ans = {}\n",
    "    persons = 0\n",
    "    for l in quest_db.splitlines():\n",
    "        #print(l)\n",
    "        # detect empty line -> end of a group\n",
    "        # hint: add empty line at the end of the dataset to ensure that group detection works\n",
    "        if len(l) == 0:\n",
    "            #print(\"persons=\",persons)\n",
    "            # check if persons match accumulated count for each dict value; if not remove dict value altogether\n",
    "            ans_all = {}\n",
    "            for k,v in ans.items():\n",
    "                #print(\"k=\",k,\"v=\",v)\n",
    "                if v == persons:\n",
    "                    ans_all[k] = v                  \n",
    "                    \n",
    "            quest_list.append(ans_all)\n",
    "            persons = 0\n",
    "            ans = {}\n",
    "            #print(\"new group\")\n",
    "        else:\n",
    "            persons += 1\n",
    "            for c in l:\n",
    "                # test for existence\n",
    "                if c in ans:\n",
    "                    # increment count\n",
    "                    ans[c] = ans[c] + 1\n",
    "                else:\n",
    "                    # initial value\n",
    "                    ans[c] = 1\n",
    "                #print(ans)\n",
    "            \n",
    "def sum_quest_list(quest_list):\n",
    "    sum = 0\n",
    "    for q in quest_list:\n",
    "        #print(q)\n",
    "        sum += len(q)\n",
    "        \n",
    "    return(sum)\n",
    "        \n",
    "# part 1\n",
    "quest_list = []     \n",
    "parse_quest_db_part1(quest_list, quest_sample)\n",
    "print(sum_quest_list(quest_list))\n",
    "\n",
    "# part 2\n",
    "quest_list = []\n",
    "parse_quest_db_part2(quest_list, quest_sample)\n",
    "print(sum_quest_list(quest_list))"
   ]
  },
  {
   "cell_type": "code",
   "execution_count": 52,
   "metadata": {},
   "outputs": [
    {
     "name": "stdout",
     "output_type": "stream",
     "text": [
      "6768\n"
     ]
    }
   ],
   "source": [
    "# part 1\n",
    "\n",
    "file = open(\"aoc_6.txt\", \"r\")\n",
    "#read whole file to a string\n",
    "quest = file.read()\n",
    "file.close()\n",
    "\n",
    "quest_list = []\n",
    "parse_quest_db_part1(quest_list, quest)\n",
    "print(sum_quest_list(quest_list))\n"
   ]
  },
  {
   "cell_type": "code",
   "execution_count": 53,
   "metadata": {},
   "outputs": [
    {
     "name": "stdout",
     "output_type": "stream",
     "text": [
      "3489\n"
     ]
    }
   ],
   "source": [
    "# part 2\n",
    "\n",
    "quest_list = []\n",
    "parse_quest_db_part2(quest_list, quest)\n",
    "print(sum_quest_list(quest_list))\n"
   ]
  },
  {
   "cell_type": "code",
   "execution_count": null,
   "metadata": {},
   "outputs": [],
   "source": []
  }
 ],
 "metadata": {
  "kernelspec": {
   "display_name": "Python 3",
   "language": "python",
   "name": "python3"
  },
  "language_info": {
   "codemirror_mode": {
    "name": "ipython",
    "version": 3
   },
   "file_extension": ".py",
   "mimetype": "text/x-python",
   "name": "python",
   "nbconvert_exporter": "python",
   "pygments_lexer": "ipython3",
   "version": "3.7.6"
  }
 },
 "nbformat": 4,
 "nbformat_minor": 4
}
