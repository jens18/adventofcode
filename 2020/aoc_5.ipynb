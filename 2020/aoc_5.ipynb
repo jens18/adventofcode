{
 "cells": [
  {
   "cell_type": "code",
   "execution_count": null,
   "metadata": {},
   "outputs": [],
   "source": [
    "# AOC 2020: https://adventofcode.com/2020/day/5"
   ]
  },
  {
   "cell_type": "markdown",
   "metadata": {},
   "source": [
    "    BFFFBBFRRR: row 70, column 7, seat ID 567.\n",
    "    FFFBBBFRRR: row 14, column 7, seat ID 119.\n",
    "    BBFFBBFRLL: row 102, column 4, seat ID 820.\n",
    "    \n",
    "    row encoding\n",
    "    \n",
    "    iter | code | l   | r   |l_next    | r_next \n",
    "    0    |      | 0   | 127 |          |        \n",
    "    1    | F    | 0   | 63  | l = l    | r = l+63\n",
    "    2    | B    | 32  | 63  | l = l+32 | r = r\n",
    "    3    | F    | 32  | 47  | l = l    | r = l+15\n",
    "    4    | B    | 40  | 47  | l = l+8  | r = r\n",
    "    5    | B    | 44  | 47  | l = l+4  | r = r\n",
    "    6    | F    | 44  | 45  | l = l    | r = l+1\n",
    "    7    | F    | 44  | 44  | l = l    | r = l+0\n",
    "    \n",
    "    seat encoding\n",
    "    \n",
    "    iter | code | l   | r   | l_next   | r_next\n",
    "    0    |      | 0   | 7   |          |\n",
    "    1    | R    | 4   | 7   | l = l+4  | r = r\n",
    "    2    | L    | 4   | 5   | l = l    | r = l+1\n",
    "    4    | R    | 5   |     | l = l+1  | r = r\n",
    "    \n",
    "    same algorithm, different start conditions\n",
    "    "
   ]
  },
  {
   "cell_type": "code",
   "execution_count": 54,
   "metadata": {},
   "outputs": [
    {
     "name": "stdout",
     "output_type": "stream",
     "text": [
      "own_seat_id= 356.0\n",
      "own_seat_id= 566.0\n",
      "own_seat_id= 819.0\n",
      "820.0\n"
     ]
    }
   ],
   "source": [
    "passes_sample = ['FBFBBFFRLR', 'BFFFBBFRRR', 'FFFBBBFRRR', 'BBFFBBFRLL']\n",
    "\n",
    "def pass_decoder(l, r, l_char, r_char, seq):\n",
    "        offset = (r+1)/2\n",
    "        for i in seq:\n",
    "            if i == l_char:\n",
    "                l = l\n",
    "                r = l+(offset-1)\n",
    "            elif i == r_char:\n",
    "                l = l+offset\n",
    "                r = r\n",
    "            offset /= 2 \n",
    "            #print(\"i=\",i,\"l=\",l,\"r=\",r)\n",
    "        return(l)\n",
    "                \n",
    "def single_pass_decoder(p):\n",
    "    row = pass_decoder(0, 127, 'F', 'B', p[0:7])\n",
    "    seat = pass_decoder(0,7,'L','R',p[7:])\n",
    "    seat_id = row*8 + seat\n",
    "    #print(\"row=\",row,\"seat=\",seat,\"seat_id=\",seat_id)\n",
    "    return(seat_id)\n",
    "  \n",
    "def pass_db_decoder(passes):\n",
    "     max_seat_id = 0\n",
    "     seat_id_list = []\n",
    "     for p in passes:\n",
    "        #print(\"p=\", p, \"\\n\")\n",
    "        seat_id = single_pass_decoder(p)  \n",
    "        seat_id_list.append(seat_id)\n",
    "        if seat_id > max_seat_id:\n",
    "            max_seat_id = seat_id\n",
    "            \n",
    "     # find own seat_id (part 2)\n",
    "     seat_id_list.sort()\n",
    "     # scan for gap\n",
    "     for idx, val in enumerate(seat_id_list):\n",
    "        if idx != 0 and seat_id_list[idx-1] != (val-1) :\n",
    "            print(\"own_seat_id=\", val-1)\n",
    "     #print(seat_id_list)\n",
    "     return(max_seat_id)\n",
    "        \n",
    "print(pass_db_decoder(passes_sample))"
   ]
  },
  {
   "cell_type": "code",
   "execution_count": 55,
   "metadata": {},
   "outputs": [
    {
     "name": "stdout",
     "output_type": "stream",
     "text": [
      "own_seat_id= 592.0\n",
      "963.0\n"
     ]
    }
   ],
   "source": [
    "# part 1 + 2\n",
    "\n",
    "# open file and read the content in a list\n",
    "with open('aoc_5.txt', 'r') as filehandle:\n",
    "    passes = [line.rstrip() for line in filehandle.readlines()]\n",
    "    \n",
    "print(pass_db_decoder(passes))   "
   ]
  }
 ],
 "metadata": {
  "kernelspec": {
   "display_name": "Python 3",
   "language": "python",
   "name": "python3"
  },
  "language_info": {
   "codemirror_mode": {
    "name": "ipython",
    "version": 3
   },
   "file_extension": ".py",
   "mimetype": "text/x-python",
   "name": "python",
   "nbconvert_exporter": "python",
   "pygments_lexer": "ipython3",
   "version": "3.7.6"
  }
 },
 "nbformat": 4,
 "nbformat_minor": 4
}
