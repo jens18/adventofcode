{
 "cells": [
  {
   "cell_type": "code",
   "execution_count": 43,
   "metadata": {},
   "outputs": [
    {
     "name": "stdout",
     "output_type": "stream",
     "text": [
      "valid_cnt=2, invalid_cnt=1\n"
     ]
    }
   ],
   "source": [
    "# AOC 2020: https://adventofcode.com/2020/day/2\n",
    "\n",
    "pwd_db_sample = [\"1-3 a: abcde\", \"1-3 b: cdefg\", \"2-9 c: ccccccccc\"]\n",
    "\n",
    "def check_pwd(pwd_db, policy):\n",
    "    # parse an individual password entry\n",
    "    valid_cnt = 0\n",
    "    invalid_cnt = 0\n",
    "    for i in pwd_db:\n",
    "        rg, c, pwd = i.split()\n",
    "        # remove colon after character\n",
    "        c = c[0]\n",
    "        min_cnt_str, max_cnt_str = rg.split('-')\n",
    "        min_cnt = int(min_cnt_str)\n",
    "        max_cnt = int(max_cnt_str)\n",
    "        #print(\"rg={}, c={}, pwd={}\".format(rg,c,pwd))\n",
    "        \n",
    "        valid_cnt, invalid_cnt = policy(pwd, min_cnt, max_cnt, c, valid_cnt, invalid_cnt)\n",
    "        \n",
    "                    \n",
    "    return(valid_cnt, invalid_cnt)\n",
    "\n",
    "# policy as an argument, should be an interface ...\n",
    "def policy_1(pwd, min_cnt, max_cnt, c, valid_cnt, invalid_cnt):\n",
    "    # policy: count occurrences of character c in pwd\n",
    "    cnt = 0\n",
    "    for y in pwd:\n",
    "       if c == y:\n",
    "          cnt += 1\n",
    "    #print(\"cnt={}\".format(cnt))\n",
    "    if(cnt >= min_cnt and cnt <= max_cnt):\n",
    "       #print(\"valid pwd\")\n",
    "       valid_cnt +=1\n",
    "    else:\n",
    "       #print(\"invalid_pwd\")\n",
    "       invalid_cnt +=1\n",
    "    return(valid_cnt, invalid_cnt)    \n",
    "\n",
    "        \n",
    "valid_cnt, invalid_cnt = check_pwd(pwd_db_sample, policy_1)  \n",
    "print(\"valid_cnt={}, invalid_cnt={}\".format(valid_cnt, invalid_cnt))"
   ]
  },
  {
   "cell_type": "code",
   "execution_count": 44,
   "metadata": {},
   "outputs": [],
   "source": [
    "# open file and read the content in a list\n",
    "with open('aoc_2.csv', 'r') as filehandle:\n",
    "    # important: do not forget to convert string -> int (otherwise i+j comparison will not work!)\n",
    "    pwd_db = [line.rstrip() for line in filehandle.readlines()]"
   ]
  },
  {
   "cell_type": "code",
   "execution_count": 45,
   "metadata": {},
   "outputs": [
    {
     "name": "stdout",
     "output_type": "stream",
     "text": [
      "valid_cnt=469, invalid_cnt=531\n"
     ]
    }
   ],
   "source": [
    "# part 1:\n",
    "valid_cnt, invalid_cnt = check_pwd(pwd_db, policy_1)\n",
    "print(\"valid_cnt={}, invalid_cnt={}\".format(valid_cnt, invalid_cnt))"
   ]
  },
  {
   "cell_type": "code",
   "execution_count": 46,
   "metadata": {},
   "outputs": [
    {
     "name": "stdout",
     "output_type": "stream",
     "text": [
      "valid_cnt=267, invalid_cnt=733\n"
     ]
    }
   ],
   "source": [
    "# part 2:\n",
    "\n",
    "def policy_2(pwd, pos_1, pos_2, c, valid_cnt, invalid_cnt):\n",
    "    # check pwd position pos_1 and pos_2; only one has to match c; both can not match c\n",
    "    if (pwd[pos_1 -1] == c or pwd[pos_2 - 1] == c) and (pwd[pos_1 - 1] != pwd[pos_2 -1]):\n",
    "        valid_cnt += 1\n",
    "    else:\n",
    "        invalid_cnt += 1\n",
    "    return(valid_cnt, invalid_cnt)     \n",
    "        \n",
    "valid_cnt, invalid_cnt = check_pwd(pwd_db, policy_2)\n",
    "print(\"valid_cnt={}, invalid_cnt={}\".format(valid_cnt, invalid_cnt))        \n",
    "    "
   ]
  },
  {
   "cell_type": "code",
   "execution_count": null,
   "metadata": {},
   "outputs": [],
   "source": []
  }
 ],
 "metadata": {
  "kernelspec": {
   "display_name": "Python 3",
   "language": "python",
   "name": "python3"
  },
  "language_info": {
   "codemirror_mode": {
    "name": "ipython",
    "version": 3
   },
   "file_extension": ".py",
   "mimetype": "text/x-python",
   "name": "python",
   "nbconvert_exporter": "python",
   "pygments_lexer": "ipython3",
   "version": "3.7.6"
  }
 },
 "nbformat": 4,
 "nbformat_minor": 4
}
