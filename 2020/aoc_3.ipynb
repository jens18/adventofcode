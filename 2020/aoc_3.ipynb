{
 "cells": [
  {
   "cell_type": "code",
   "execution_count": 3,
   "metadata": {},
   "outputs": [
    {
     "name": "stdout",
     "output_type": "stream",
     "text": [
      "11 \n",
      "\n",
      "[['.', '#', '.', '.', '.', '.', '.', '.', '#', '#', '.'], ['.', '.', '#', '.', '#', '.', '#', '#', '.', '.', '#'], ['#', '.', '.', '#', '.', '#', '.', '.', '#', '.', '.'], ['#', '.', '.', '.', '.', '.', '#', '.', '#', '.', '.'], ['.', '#', '.', '#', '.', '#', '.', '.', '.', '#', '#'], ['.', '.', '.', '.', '#', '#', '#', '.', '.', '#', '.'], ['.', '.', '#', '.', '#', '.', '.', '.', '.', '.', '.'], ['.', '.', '.', '.', '.', '.', '.', '.', '#', '.', '.'], ['.', '#', '.', '#', '.', '.', '.', '.', '.', '.', '#'], ['.', '.', '#', '.', '#', '.', '.', '.', '.', '.', '.'], ['.', '.', '.', '#', '.', '.', '#', '#', '.', '#', '#']] \n",
      "\n",
      "[['.', '#', '.', '.', '.', '.', '.', '.', '#', '#', '.'], ['.', '.', '#', '.', '#', '.', '#', '#', '.', '.', '#'], ['#', '.', '.', '#', '.', '#', '.', '.', '#', '.', '.'], ['#', '.', '.', '.', '.', '.', '#', '.', '#', '.', '.'], ['.', '#', '.', '#', '.', '#', '.', '.', '.', '#', '#'], ['.', '.', '.', '.', '#', '#', '#', '.', '.', '#', '.'], ['.', '.', '#', '.', '#', '.', '.', '.', '.', '.', '.'], ['.', '.', '.', '.', '.', '.', '.', '.', '#', '.', '.'], ['.', '#', '.', '#', '.', '.', '.', '.', '.', '.', '#'], ['.', '.', '#', '.', '#', '.', '.', '.', '.', '.', '.'], ['.', '.', '.', '#', '.', '.', '#', '#', '.', '#', '#']] \n",
      "\n",
      "11 \n",
      "\n",
      "(7, 3)\n"
     ]
    }
   ],
   "source": [
    "# AOC 2020: https://adventofcode.com/2020/day/3\n",
    "\n",
    "map_gene_sample = [\"..##.......\",\n",
    "                   \"#...#...#..\",\n",
    "                   \".#....#..#.\",\n",
    "                   \"..#.#...#.#\",\n",
    "                   \".#...##..#.\",\n",
    "                   \"..#.##.....\",\n",
    "                   \".#.#.#....#\",\n",
    "                   \".#........#\",\n",
    "                   \"#.##...#...\",\n",
    "                   \"#...##....#\",\n",
    "                   \".#..#...#.#\"]\n",
    "\n",
    "# pivot map_gene_sample list: create list of columns\n",
    "def pivot_map_gene(col_list, map_gene):\n",
    "    \n",
    "    # determine x y dimension\n",
    "    x_dim = len(map_gene[0])\n",
    "    print(x_dim, \"\\n\")\n",
    "    \n",
    "    for col in range(x_dim):\n",
    "        col_list.append([])\n",
    "        # print(\"col={}\".format(col))\n",
    "        for row in map_gene:\n",
    "            # print(\"row={}\".format(row))\n",
    "            col_list[col].append(row[col])\n",
    "\n",
    "# test  \n",
    "col_list = []\n",
    "pivot_map_gene(col_list, map_gene_sample)\n",
    "\n",
    "print(col_list, \"\\n\")     \n",
    "\n",
    "def rotate(pos, col_list):\n",
    "    for i in range(pos):\n",
    "        e = col_list[0]\n",
    "        del col_list[0]\n",
    "        col_list.append(e)\n",
    "            \n",
    "print(col_list, \"\\n\")\n",
    "\n",
    "def count_trees(col_list, map_gene, left, right):\n",
    "    x = 0\n",
    "    y = 1\n",
    "    tree_cnt = 0\n",
    "    space_cnt = 0\n",
    "\n",
    "    y_dim = len(map_gene)\n",
    "    print(y_dim, \"\\n\")\n",
    "    \n",
    "    while y < y_dim:\n",
    "        rotate(left, col_list)\n",
    "    \n",
    "        if y < y_dim and col_list[0][y] == '#':\n",
    "            #print(\"tree\")\n",
    "            tree_cnt += 1\n",
    "        else:\n",
    "            #print(\"space\")\n",
    "            space_cnt += 1\n",
    "\n",
    "        y += right\n",
    "    \n",
    "    return(tree_cnt, space_cnt)\n",
    "\n",
    "print(count_trees(col_list, map_gene_sample, 3, 1))  "
   ]
  },
  {
   "cell_type": "code",
   "execution_count": 62,
   "metadata": {},
   "outputs": [],
   "source": [
    "# open file and read the content in a list\n",
    "with open('aoc_3.txt', 'r') as filehandle:\n",
    "    # important: do not forget to convert string -> int (otherwise i+j comparison will not work!)\n",
    "    map_gene = [line.rstrip() for line in filehandle.readlines()]"
   ]
  },
  {
   "cell_type": "code",
   "execution_count": 72,
   "metadata": {},
   "outputs": [
    {
     "name": "stdout",
     "output_type": "stream",
     "text": [
      "31 \n",
      "\n",
      "323 \n",
      "\n",
      "(250, 72)\n"
     ]
    }
   ],
   "source": [
    "col_list = []\n",
    "pivot_map_gene(col_list, map_gene)\n",
    "print(count_trees(col_list, map_gene, 3, 1))"
   ]
  },
  {
   "cell_type": "markdown",
   "metadata": {},
   "source": [
    "\n",
    "    Right 1, down 1.\n",
    "    Right 3, down 1. (This is the slope you already checked.)\n",
    "    Right 5, down 1.\n",
    "    Right 7, down 1.\n",
    "    Right 1, down 2.\n"
   ]
  },
  {
   "cell_type": "code",
   "execution_count": 78,
   "metadata": {},
   "outputs": [
    {
     "name": "stdout",
     "output_type": "stream",
     "text": [
      "(1, 1)\n",
      "31 \n",
      "\n",
      "323 \n",
      "\n",
      "trees =  55\n",
      "(3, 1)\n",
      "31 \n",
      "\n",
      "323 \n",
      "\n",
      "trees =  250\n",
      "(5, 1)\n",
      "31 \n",
      "\n",
      "323 \n",
      "\n",
      "trees =  54\n",
      "(7, 1)\n",
      "31 \n",
      "\n",
      "323 \n",
      "\n",
      "trees =  55\n",
      "(1, 2)\n",
      "31 \n",
      "\n",
      "323 \n",
      "\n",
      "trees =  29\n",
      "total trees =  1184287500\n"
     ]
    }
   ],
   "source": [
    "routes = [(1,1), (3,1), (5,1), (7,1), (1,2)]\n",
    "total_trees = 0\n",
    "for r in routes:\n",
    "    print(r)\n",
    "    \n",
    "    # re-initialize\n",
    "    col_list = []\n",
    "    pivot_map_gene(col_list, map_gene)\n",
    "    \n",
    "    trees, spaces = count_trees(col_list, map_gene, r[0], r[1])\n",
    "    print(\"trees = \", trees)\n",
    "    if total_trees != 0:\n",
    "        total_trees *= trees\n",
    "    else:\n",
    "        total_trees = trees\n",
    "        \n",
    "print(\"total trees = \", total_trees)"
   ]
  },
  {
   "cell_type": "code",
   "execution_count": 1,
   "metadata": {},
   "outputs": [
    {
     "data": {
      "text/plain": [
       "range(0, 1)"
      ]
     },
     "execution_count": 1,
     "metadata": {},
     "output_type": "execute_result"
    }
   ],
   "source": [
    "range(1)"
   ]
  },
  {
   "cell_type": "code",
   "execution_count": null,
   "metadata": {},
   "outputs": [],
   "source": []
  }
 ],
 "metadata": {
  "kernelspec": {
   "display_name": "Python 3",
   "language": "python",
   "name": "python3"
  },
  "language_info": {
   "codemirror_mode": {
    "name": "ipython",
    "version": 3
   },
   "file_extension": ".py",
   "mimetype": "text/x-python",
   "name": "python",
   "nbconvert_exporter": "python",
   "pygments_lexer": "ipython3",
   "version": "3.7.6"
  }
 },
 "nbformat": 4,
 "nbformat_minor": 4
}
