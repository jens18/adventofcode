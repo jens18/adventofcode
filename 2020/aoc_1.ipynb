{
 "cells": [
  {
   "cell_type": "code",
   "execution_count": 23,
   "metadata": {},
   "outputs": [
    {
     "data": {
      "text/plain": [
       "1721"
      ]
     },
     "execution_count": 23,
     "metadata": {},
     "output_type": "execute_result"
    }
   ],
   "source": [
    "# AOC 2020: https://adventofcode.com/2020/day/1\n",
    "\n",
    "# create a list of the sample values\n",
    "exp_amt_sample = [1721, 979, 366, 299, 675, 1456]\n",
    "exp_amt_sample[0]"
   ]
  },
  {
   "cell_type": "code",
   "execution_count": 24,
   "metadata": {},
   "outputs": [
    {
     "name": "stdout",
     "output_type": "stream",
     "text": [
      "match: 1721, 299 (multiplied: 514579)\n",
      "comp_cnt: 3\n"
     ]
    }
   ],
   "source": [
    "# part 1: algorithm\n",
    "# - search ever shorter sets of data\n",
    "# - find 2 numbers that add up to 2020\n",
    "# - stop process when match has been found\n",
    "def find_2_match(exp_amt):\n",
    "    stop_flag = False\n",
    "    comp_cnt = 0\n",
    "    for idx_i, i in enumerate(exp_amt[:]):\n",
    "        #print(\"p[{}] = {}\".format(idx_i,i))\n",
    "        for idx_j, j in enumerate(exp_amt[idx_i+1:]):\n",
    "            #print(\"s[{}] = {}\".format(idx_j, j))\n",
    "            comp_cnt += 1\n",
    "            if i + j == 2020:\n",
    "                print(\"match: {}, {} (multiplied: {})\".format(i,j, i*j))\n",
    "                stop_flag = True\n",
    "                break\n",
    "        if stop_flag:\n",
    "            print(\"comp_cnt: {}\".format(comp_cnt))\n",
    "            break\n",
    "\n",
    "find_2_match(exp_amt_sample)"
   ]
  },
  {
   "cell_type": "code",
   "execution_count": 25,
   "metadata": {},
   "outputs": [],
   "source": [
    "# open file and read the content in a list\n",
    "with open('aoc_1.csv', 'r') as filehandle:\n",
    "    # important: do not forget to convert string -> int (otherwise i+j comparison will not work!)\n",
    "    exp_amt = [int(line.rstrip()) for line in filehandle.readlines()]"
   ]
  },
  {
   "cell_type": "code",
   "execution_count": 26,
   "metadata": {},
   "outputs": [
    {
     "name": "stdout",
     "output_type": "stream",
     "text": [
      "length of list: 200\n",
      "first element value: 1993\n",
      "type: <class 'int'>\n"
     ]
    }
   ],
   "source": [
    "# validate the entries in the list\n",
    "print(\"length of list: {}\".format(len(exp_amt)))\n",
    "print(\"first element value: {}\".format(exp_amt[0]))\n",
    "# values must be integers\n",
    "print(\"type: {}\".format(type(exp_amt[0])))"
   ]
  },
  {
   "cell_type": "code",
   "execution_count": 27,
   "metadata": {},
   "outputs": [
    {
     "name": "stdout",
     "output_type": "stream",
     "text": [
      "match: 1137, 883 (multiplied: 1003971)\n",
      "comp_cnt: 2540\n"
     ]
    }
   ],
   "source": [
    "# answer for part 1\n",
    "find_2_match(exp_amt)"
   ]
  },
  {
   "cell_type": "code",
   "execution_count": 28,
   "metadata": {},
   "outputs": [
    {
     "name": "stdout",
     "output_type": "stream",
     "text": [
      "match: 979, 366, 675 (multiplied: 241861950)\n",
      "comp_cnt: 22\n"
     ]
    }
   ],
   "source": [
    "# part 2: find 3 numbers that add up to 2020\n",
    "def find_3_match(exp_amt):\n",
    "    stop_flag = False\n",
    "    comp_cnt = 0\n",
    "    for idx_i, i in enumerate(exp_amt[:]):\n",
    "        #print(\"p[{}] = {}\".format(idx_i,i))\n",
    "        for idx_j, j in enumerate(exp_amt[idx_i+1:]):\n",
    "            #print(\"s1[{}] = {}\".format(idx_j, j))\n",
    "            for idx_k, k in enumerate(exp_amt[idx_i+2:]):\n",
    "                #print(\"s2[{}] = {}\".format(idx_k, k))\n",
    "                comp_cnt += 1\n",
    "                if (i + j + k) == 2020:\n",
    "                    print(\"match: {}, {}, {} (multiplied: {})\".format(i,j,k, i*j*k))\n",
    "                    print(\"comp_cnt: {}\".format(comp_cnt))\n",
    "                    stop_flag = True\n",
    "                    break\n",
    "            if stop_flag:\n",
    "                break\n",
    "        if stop_flag:\n",
    "            break       \n",
    "\n",
    "find_3_match(exp_amt_sample)"
   ]
  },
  {
   "cell_type": "code",
   "execution_count": 29,
   "metadata": {},
   "outputs": [
    {
     "name": "stdout",
     "output_type": "stream",
     "text": [
      "match: 1232, 99, 689 (multiplied: 84035952)\n",
      "comp_cnt: 2071444\n",
      "match: 1232, 99, 689 (multiplied: 84035952)\n",
      "comp_cnt: 2071444\n",
      "match: 1232, 99, 689 (multiplied: 84035952)\n",
      "comp_cnt: 2071444\n",
      "match: 1232, 99, 689 (multiplied: 84035952)\n",
      "comp_cnt: 2071444\n",
      "match: 1232, 99, 689 (multiplied: 84035952)\n",
      "comp_cnt: 2071444\n",
      "match: 1232, 99, 689 (multiplied: 84035952)\n",
      "comp_cnt: 2071444\n",
      "match: 1232, 99, 689 (multiplied: 84035952)\n",
      "comp_cnt: 2071444\n",
      "match: 1232, 99, 689 (multiplied: 84035952)\n",
      "comp_cnt: 2071444\n",
      "290 ms ± 14 ms per loop (mean ± std. dev. of 7 runs, 1 loop each)\n"
     ]
    }
   ],
   "source": [
    "# answer for part2\n",
    "%timeit find_3_match(exp_amt)"
   ]
  },
  {
   "cell_type": "code",
   "execution_count": null,
   "metadata": {},
   "outputs": [],
   "source": []
  }
 ],
 "metadata": {
  "kernelspec": {
   "display_name": "Python 3",
   "language": "python",
   "name": "python3"
  },
  "language_info": {
   "codemirror_mode": {
    "name": "ipython",
    "version": 3
   },
   "file_extension": ".py",
   "mimetype": "text/x-python",
   "name": "python",
   "nbconvert_exporter": "python",
   "pygments_lexer": "ipython3",
   "version": "3.7.6"
  }
 },
 "nbformat": 4,
 "nbformat_minor": 4
}
