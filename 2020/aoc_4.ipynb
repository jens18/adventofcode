{
 "cells": [
  {
   "cell_type": "code",
   "execution_count": 81,
   "metadata": {},
   "outputs": [],
   "source": [
    "# AOC 2020: https://adventofcode.com/2020/day/4\n",
    "\n",
    "passport_sample = \"\"\"ecl:gry pid:860033327 eyr:2020 hcl:#fffffd\n",
    "byr:1937 iyr:2017 cid:147 hgt:183cm\n",
    "\n",
    "iyr:2013 ecl:amb cid:350 eyr:2023 pid:028048884\n",
    "hcl:#cfa07d byr:1929\n",
    "\n",
    "hcl:#ae17e1 iyr:2013\n",
    "eyr:2024\n",
    "ecl:brn pid:760753108 byr:1931\n",
    "hgt:179cm\n",
    "\n",
    "hcl:#cfa07d eyr:2025 pid:166559648\n",
    "iyr:2011 ecl:brn hgt:59in\n",
    "\"\"\""
   ]
  },
  {
   "cell_type": "code",
   "execution_count": 82,
   "metadata": {},
   "outputs": [
    {
     "name": "stdout",
     "output_type": "stream",
     "text": [
      "['ecl:gry pid:860033327 eyr:2020 hcl:#fffffd byr:1937 iyr:2017 cid:147 hgt:183cm ', 'iyr:2013 ecl:amb cid:350 eyr:2023 pid:028048884 hcl:#cfa07d byr:1929 ', 'hcl:#ae17e1 iyr:2013 eyr:2024 ecl:brn pid:760753108 byr:1931 hgt:179cm ', 'hcl:#cfa07d eyr:2025 pid:166559648 iyr:2011 ecl:brn hgt:59in ']\n"
     ]
    }
   ],
   "source": [
    "# iterate over string containing multiple lines\n",
    "def parse_passport_db(passport_list, passport_db):\n",
    "\n",
    "    p = \"\"\n",
    "    for l in passport_db.splitlines():\n",
    "        #print(\"l=\",l,\"len(l)=\",len(l))\n",
    "        #print(\"p=\",p)\n",
    "        if len(l) == 0: \n",
    "            # finalize passport\n",
    "            passport_list.append(p)\n",
    "            p = \"\"\n",
    "        else:\n",
    "            # continue to accumulate passport data\n",
    "            p = p + l + ' '\n",
    "      \n",
    "    # capture last passport\n",
    "    passport_list.append(p)\n",
    "    return(passport_list)\n",
    "\n",
    "passport_list = []\n",
    "passport_list = parse_passport_db(passport_list, passport_sample)\n",
    "print(passport_list)"
   ]
  },
  {
   "cell_type": "markdown",
   "metadata": {},
   "source": [
    "\n",
    "\n",
    "    byr (Birth Year)\n",
    "    iyr (Issue Year)\n",
    "    eyr (Expiration Year)\n",
    "    hgt (Height)\n",
    "    hcl (Hair Color)\n",
    "    ecl (Eye Color)\n",
    "    pid (Passport ID)\n",
    "    cid (Country ID)\n"
   ]
  },
  {
   "cell_type": "code",
   "execution_count": 83,
   "metadata": {},
   "outputs": [
    {
     "name": "stdout",
     "output_type": "stream",
     "text": [
      "valid passports =  2\n"
     ]
    }
   ],
   "source": [
    "# prepare a hashtable with a unique bitmap value associated to each key\n",
    "passport_key = {\"byr\":1, \"iyr\":2, \"eyr\":4, \"hgt\":8, \"hcl\":16, \"ecl\":32, \"pid\":64, \"cid\":128}\n",
    "\n",
    "# check for mandatory fields\n",
    "def check_key_fields(passport_list):\n",
    "    valid_passport_cnt = 0\n",
    "    \n",
    "   \n",
    "    for i in passport_list:\n",
    "        total = 0\n",
    "        fields = i.split()\n",
    "        #print(fields)\n",
    "        for att in fields:\n",
    "            key, value = att.split(':')\n",
    "            total += passport_key[key] \n",
    "        #print(\"total=\", total)\n",
    "        \n",
    "        # check the 'signature'\n",
    "        if total == 255 or total == 127:\n",
    "            valid_passport_cnt += 1\n",
    "    return(valid_passport_cnt)\n",
    "      \n",
    "print(\"valid passports = \", check_key_fields(passport_list))   \n",
    "        "
   ]
  },
  {
   "cell_type": "code",
   "execution_count": 84,
   "metadata": {},
   "outputs": [
    {
     "name": "stdout",
     "output_type": "stream",
     "text": [
      "valid passports =  219\n"
     ]
    }
   ],
   "source": [
    "# part 1 \n",
    "\n",
    "#open text file in read mode\n",
    "file = open(\"aoc_4.txt\", \"r\")\n",
    "#read whole file to a string\n",
    "passport = file.read()\n",
    "#close file\n",
    "file.close()\n",
    " \n",
    "#print(passport) \n",
    "passport_list = []\n",
    "passport_list = parse_passport_db(passport_list, passport)\n",
    "\n",
    "print(\"valid passports = \", check_key_fields(passport_list)) "
   ]
  },
  {
   "cell_type": "code",
   "execution_count": null,
   "metadata": {},
   "outputs": [],
   "source": []
  }
 ],
 "metadata": {
  "kernelspec": {
   "display_name": "Python 3",
   "language": "python",
   "name": "python3"
  },
  "language_info": {
   "codemirror_mode": {
    "name": "ipython",
    "version": 3
   },
   "file_extension": ".py",
   "mimetype": "text/x-python",
   "name": "python",
   "nbconvert_exporter": "python",
   "pygments_lexer": "ipython3",
   "version": "3.7.6"
  }
 },
 "nbformat": 4,
 "nbformat_minor": 4
}
