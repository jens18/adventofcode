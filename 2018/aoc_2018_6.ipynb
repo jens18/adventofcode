{
 "cells": [
  {
   "cell_type": "code",
   "execution_count": 1,
   "metadata": {},
   "outputs": [
    {
     "name": "stdout",
     "output_type": "stream",
     "text": [
      "shape = (50, 2)\n",
      "largest dimension size (x/y): 353\n",
      "     0    1\n",
      "0  336  308\n",
      "1  262   98\n",
      "2  352  115\n",
      "3  225  205\n",
      "4  292  185\n",
      "336\n",
      "308\n"
     ]
    }
   ],
   "source": [
    "import pandas as pd\n",
    "import numpy as np\n",
    "\n",
    "# file data\n",
    "df=pd.read_csv('aoc_2018_6.txt', sep=',',header=None)\n",
    "\n",
    "# testdata\n",
    "#df = pd.DataFrame.from_records([(1, 1), (1, 6), (8, 3), (3, 4), (5, 5), (8, 9)])\n",
    "print('shape = {}'.format(df.shape))\n",
    "dim_size = max(df[0].max(), df[1].max()) + 1\n",
    "print('largest dimension size (x/y): {}'.format(dim_size))\n",
    "print(df.head())\n",
    "# print first row x \n",
    "x = df.iloc[0][0]\n",
    "print(x)\n",
    "# print first row y\n",
    "y = df.iloc[0][1]\n",
    "print(y)"
   ]
  },
  {
   "cell_type": "code",
   "execution_count": 2,
   "metadata": {},
   "outputs": [
    {
     "name": "stdout",
     "output_type": "stream",
     "text": [
      "[[0. 0. 0. ... 0. 0. 0.]\n",
      " [0. 0. 0. ... 0. 0. 0.]\n",
      " [0. 0. 0. ... 0. 0. 0.]\n",
      " ...\n",
      " [0. 0. 0. ... 0. 0. 0.]\n",
      " [0. 0. 0. ... 0. 0. 0.]\n",
      " [0. 0. 0. ... 0. 0. 0.]]\n",
      "shape = (353, 353)\n"
     ]
    }
   ],
   "source": [
    "m = np.zeros((dim_size, dim_size))\n",
    "print(m)\n",
    "print('shape = {}'.format(m.shape))"
   ]
  },
  {
   "cell_type": "code",
   "execution_count": 3,
   "metadata": {},
   "outputs": [
    {
     "name": "stdout",
     "output_type": "stream",
     "text": [
      "0 336 308\n",
      "1 262 98\n",
      "2 352 115\n",
      "3 225 205\n",
      "4 292 185\n",
      "5 166 271\n",
      "6 251 67\n",
      "7 266 274\n",
      "8 326 85\n",
      "9 191 256\n",
      "10 62 171\n",
      "11 333 123\n",
      "12 160 131\n",
      "13 211 214\n",
      "14 287 333\n",
      "15 231 288\n",
      "16 237 183\n",
      "17 211 272\n",
      "18 116 153\n",
      "19 336 70\n",
      "20 291 117\n",
      "21 156 105\n",
      "22 261 119\n",
      "23 216 171\n",
      "24 59 343\n",
      "25 50 180\n",
      "26 251 268\n",
      "27 169 258\n",
      "28 75 136\n",
      "29 305 102\n",
      "30 154 327\n",
      "31 187 297\n",
      "32 270 225\n",
      "33 190 185\n",
      "34 339 264\n",
      "35 103 301\n",
      "36 90 92\n",
      "37 164 144\n",
      "38 108 140\n",
      "39 189 211\n",
      "40 125 157\n",
      "41 77 226\n",
      "42 177 168\n",
      "43 46 188\n",
      "44 216 244\n",
      "45 346 348\n",
      "46 272 90\n",
      "47 140 176\n",
      "48 109 324\n",
      "49 128 132\n",
      "[[36. 36. 36. ... 19. 19. 19.]\n",
      " [36. 36. 36. ... 19. 19. 19.]\n",
      " [36. 36. 36. ... 19. 19. 19.]\n",
      " ...\n",
      " [24. 24. 24. ... 45. 45. 45.]\n",
      " [24. 24. 24. ... 45. 45. 45.]\n",
      " [24. 24. 24. ... 45. 45. 45.]]\n"
     ]
    }
   ],
   "source": [
    "# iterate over dataframe row to calculate the distances from every point in the matrix \n",
    "# (for each row separately)\n",
    "dist = {}\n",
    "for idx, row in df.iterrows():\n",
    "    print(idx, row[0], row[1])\n",
    "    x = row[0]\n",
    "    y = row[1]\n",
    "    for i in range(0, dim_size):\n",
    "      for j in range(0, dim_size):\n",
    "        if i <= x: \n",
    "            val_x = x - i\n",
    "        else:\n",
    "            val_x = i - x \n",
    "        if j <= y:\n",
    "            val_y = y - j\n",
    "        else:\n",
    "            val_y = j - y\n",
    "        dist_x = val_x + val_y \n",
    "        m[j][i] = dist_x\n",
    "        \n",
    "    #print(m)\n",
    "    dist[idx] = np.copy(m) # very important to copy instead of just assigning a reference\n",
    "\n",
    "    \n",
    "    \n",
    "# combine previous result in a target matrix (t) to generate 'distance regions'\n",
    "t = np.zeros((dim_size, dim_size))\n",
    "\n",
    "for i in range(0, dim_size):\n",
    "  for j in range(0, dim_size):\n",
    "    \n",
    "    # start with the biggest number possible\n",
    "    smallest_dist = dim_size + dim_size\n",
    "    found_one = 0\n",
    "    key = -1\n",
    "    \n",
    "    # check the indiv. distance matrices for the current x,y coordinate\n",
    "    for k,v in dist.items(): # k is the key, v is the value\n",
    "        if v[j][i]  <= smallest_dist:\n",
    "            if v[j][i] < smallest_dist:\n",
    "                smallest_dist = v[j][i]\n",
    "                found_one = 1 # reset counter for this distance (first encounter)\n",
    "            else: # start counting how many matrices contain this distance value\n",
    "                found_one += 1\n",
    "            key = k\n",
    "    \n",
    "    if found_one == 1:\n",
    "        t[j][i] = key\n",
    "    else:\n",
    "        t[j][i] = -1\n",
    "\n",
    "print(t)\n",
    "\n",
    "\n",
    "        \n"
   ]
  },
  {
   "cell_type": "code",
   "execution_count": 4,
   "metadata": {},
   "outputs": [
    {
     "name": "stdout",
     "output_type": "stream",
     "text": [
      "0 False\n",
      "1 True 1224\n",
      "2 False\n",
      "3 True 980\n",
      "4 False\n",
      "5 True 1490\n",
      "6 False\n",
      "7 True 2271\n",
      "8 False\n",
      "9 True 791\n",
      "10 True 1299\n",
      "11 True 2063\n",
      "12 True 1202\n",
      "13 True 663\n",
      "14 False\n",
      "15 False\n",
      "16 True 1682\n",
      "17 True 807\n",
      "18 True 1204\n",
      "19 False\n",
      "20 True 1379\n",
      "21 False\n",
      "22 True 2384\n",
      "23 True 1711\n",
      "24 False\n",
      "25 False\n",
      "26 True 967\n",
      "27 True 2034\n",
      "28 False\n",
      "29 True 935\n",
      "30 False\n",
      "31 False\n",
      "32 True 2832\n",
      "33 True 902\n",
      "34 False\n",
      "35 True 3401\n",
      "36 False\n",
      "37 True 1034\n",
      "38 True 845\n",
      "39 True 1546\n",
      "40 True 517\n",
      "41 False\n",
      "42 True 944\n",
      "43 False\n",
      "44 True 1175\n",
      "45 False\n",
      "46 True 919\n",
      "47 True 2226\n",
      "48 False\n",
      "49 True 1038\n"
     ]
    }
   ],
   "source": [
    "# find continuous area within matrix (bounded in all directions):\n",
    "# -> candidates can not have any entries on the outer edges of the matrix\n",
    "\n",
    "def test_candidate(c):\n",
    "  # first row\n",
    "  for x in range(dim_size):\n",
    "    if t[0, x] == c:\n",
    "        return False\n",
    "  # last row\n",
    "  for x in range(dim_size):\n",
    "    if t[dim_size -1, x] == c:\n",
    "        return False\n",
    "    \n",
    "  for y in range(dim_size):\n",
    "    if t[y, 0] == c:\n",
    "        return False\n",
    "     \n",
    "  for y in range(dim_size):\n",
    "    if t[y, dim_size -1] == c:\n",
    "        return False\n",
    "    \n",
    "  return True\n",
    "\n",
    "def calc_region(c):\n",
    "  area = 0\n",
    "  for i in range(0, dim_size):\n",
    "    for j in range(0, dim_size):\n",
    "       if t[i, j] == c:\n",
    "         area += 1\n",
    "  return area\n",
    "\n",
    "# final step\n",
    "max_area = 0\n",
    "for i in range(len(df)):\n",
    "  test_result = test_candidate(i)\n",
    "  if test_result:\n",
    "    area = calc_region(i)\n",
    "    print(i, test_result, area)\n",
    "    if area > max_area:\n",
    "        max_area = area\n",
    "  else:\n",
    "    print(i, test_result)"
   ]
  },
  {
   "cell_type": "code",
   "execution_count": 5,
   "metadata": {},
   "outputs": [
    {
     "data": {
      "text/plain": [
       "3401"
      ]
     },
     "execution_count": 5,
     "metadata": {},
     "output_type": "execute_result"
    }
   ],
   "source": [
    "max_area # correct answer was: 3401"
   ]
  },
  {
   "cell_type": "code",
   "execution_count": 8,
   "metadata": {},
   "outputs": [
    {
     "name": "stdout",
     "output_type": "stream",
     "text": [
      "[[0. 0. 0. ... 0. 0. 0.]\n",
      " [0. 0. 0. ... 0. 0. 0.]\n",
      " [0. 0. 0. ... 0. 0. 0.]\n",
      " ...\n",
      " [0. 0. 0. ... 0. 0. 0.]\n",
      " [0. 0. 0. ... 0. 0. 0.]\n",
      " [0. 0. 0. ... 0. 0. 0.]]\n",
      "49369\n"
     ]
    }
   ],
   "source": [
    "# calc dist to all points in dataframe\n",
    "def calc_dist_to_all(j, i, df, limit):\n",
    "    #print(j, i)\n",
    "    sum = 0\n",
    "    for e in df.iterrows(): # e[0] is the row index, e[1] is the entire value, e[1][0] is the x value\n",
    "        x = e[1][0]\n",
    "        y = e[1][1]\n",
    "        sum += abs(j-x) + abs(i-y)\n",
    "        if sum > limit: # attempt can be aborted early \n",
    "           return 0\n",
    "    return sum\n",
    "    \n",
    "# new 'distance summary' result matrix\n",
    "limit = 10000\n",
    "s = np.zeros((dim_size, dim_size))\n",
    "for i in range(0, dim_size):\n",
    "  for j in range(0, dim_size):\n",
    "    s[j][i] = calc_dist_to_all(i, j, df, limit) # careful with the x and y coordinate order\n",
    "\n",
    "print(s)\n",
    "\n",
    "# calculate size of the region\n",
    "print(np.count_nonzero(s)) # don't use loops when numpy can do it in one step"
   ]
  },
  {
   "cell_type": "code",
   "execution_count": 13,
   "metadata": {},
   "outputs": [
    {
     "name": "stdout",
     "output_type": "stream",
     "text": [
      "49327\n"
     ]
    },
    {
     "data": {
      "image/png": "[encoded data removed]",
      "text/plain": [
       "<Figure size 432x288 with 2 Axes>"
      ]
     },
     "metadata": {},
     "output_type": "display_data"
    }
   ],
   "source": [
    "# much faster, correct and compact solution ...\n",
    "# https://www.reddit.com/r/adventofcode/comments/a3kr4r/2018_day_6_solutions/\n",
    "import numpy as np\n",
    "from scipy.spatial import distance\n",
    "\n",
    "# read the data using scipy\n",
    "points = np.loadtxt('aoc_2018_6.txt', delimiter=', ')   \n",
    "\n",
    "# build a grid of the appropriate size - note the -1 and +2 to ensure all points\n",
    "# are within the grid\n",
    "xmin, ymin = points.min(axis=0) - 1\n",
    "xmax, ymax = points.max(axis=0) + 2\n",
    "\n",
    "# and use mesgrid to build the target coordinates\n",
    "xgrid, ygrid = np.meshgrid(np.arange(xmin, xmax), np.arange(xmin, xmax))\n",
    "targets = np.dstack([xgrid, ygrid]).reshape(-1, 2)\n",
    "\n",
    "# happily scipy.spatial.distance has cityblock (or manhatten) distance out\n",
    "# of the box\n",
    "cityblock = distance.cdist(points, targets, metric='cityblock')\n",
    "\n",
    "# turns out using this method the solution is easier that before - simply\n",
    "# sum the distances for each possible grid location\n",
    "origin_distances = cityblock.sum(axis=0)\n",
    "# set the value of appropriate distances to 1, with the remainder as zero\n",
    "region = np.where(origin_distances < 10000, 1, 0)\n",
    "# and the sum is the result.\n",
    "print(region.sum())\n",
    "\n",
    "# again, a nice picture for good measure\n",
    "import matplotlib.pyplot as plt\n",
    "plt.imshow(region.reshape(xgrid.shape))\n",
    "plt.colorbar()\n",
    "plt.show()"
   ]
  },
  {
   "cell_type": "code",
   "execution_count": null,
   "metadata": {},
   "outputs": [],
   "source": []
  }
 ],
 "metadata": {
  "kernelspec": {
   "display_name": "Python 3",
   "language": "python",
   "name": "python3"
  },
  "language_info": {
   "codemirror_mode": {
    "name": "ipython",
    "version": 3
   },
   "file_extension": ".py",
   "mimetype": "text/x-python",
   "name": "python",
   "nbconvert_exporter": "python",
   "pygments_lexer": "ipython3",
   "version": "3.7.6"
  }
 },
 "nbformat": 4,
 "nbformat_minor": 2
}
