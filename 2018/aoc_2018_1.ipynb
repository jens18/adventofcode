{
 "cells": [
  {
   "cell_type": "code",
   "execution_count": 25,
   "metadata": {},
   "outputs": [
    {
     "name": "stdout",
     "output_type": "stream",
     "text": [
      "433\n"
     ]
    }
   ],
   "source": [
    "filename = \"aoc_2018_1.txt\"\n",
    "\n",
    "# part 1\n",
    "sum = 0\n",
    "\n",
    "file = open(filename, \"r\")\n",
    "for line in file:\n",
    "    adj = int(line)\n",
    "    sum += adj\n",
    "    #print('sum={}'.format(sum))\n",
    "\n",
    "print(sum) # part 1 answer: 433"
   ]
  },
  {
   "cell_type": "code",
   "execution_count": 26,
   "metadata": {},
   "outputs": [
    {
     "name": "stdout",
     "output_type": "stream",
     "text": [
      "first freq=256\n",
      "cycle=144\n"
     ]
    }
   ],
   "source": [
    "sum = 0\n",
    "result = {}\n",
    "found_first_freq = False\n",
    "first_freq = 0\n",
    "cycle = 0\n",
    "    \n",
    "while(not found_first_freq):\n",
    "    # file needs to be re-opened for each new cycle\n",
    "    file = open(filename, \"r\")\n",
    "    cycle += 1\n",
    "    for line in file:\n",
    "        adj = int(line)\n",
    "        sum += adj\n",
    "        # check if key (current 'sum') already exists in the hash table 'result'\n",
    "        if sum in result:\n",
    "            first_freq = sum\n",
    "            print('first freq={}'.format(first_freq))\n",
    "            found_first_freq = True\n",
    "            break\n",
    "        else:\n",
    "            result[sum] = 1\n",
    "   \n",
    "print('cycle={}'.format(cycle)) # part 2 answer: 256 (result reached after 144 cycles)"
   ]
  },
  {
   "cell_type": "code",
   "execution_count": null,
   "metadata": {},
   "outputs": [],
   "source": []
  }
 ],
 "metadata": {
  "kernelspec": {
   "display_name": "Python 3",
   "language": "python",
   "name": "python3"
  },
  "language_info": {
   "codemirror_mode": {
    "name": "ipython",
    "version": 3
   },
   "file_extension": ".py",
   "mimetype": "text/x-python",
   "name": "python",
   "nbconvert_exporter": "python",
   "pygments_lexer": "ipython3",
   "version": "3.7.6"
  }
 },
 "nbformat": 4,
 "nbformat_minor": 2
}
