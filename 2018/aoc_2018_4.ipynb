{
 "cells": [
  {
   "cell_type": "code",
   "execution_count": 5,
   "metadata": {},
   "outputs": [],
   "source": [
    "test_data = \"\"\"[1518-11-01 00:00] Guard #10 begins shift\n",
    "[1518-11-01 00:05] falls asleep\n",
    "[1518-11-01 00:25] wakes up\n",
    "[1518-11-01 00:30] falls asleep\n",
    "[1518-11-01 00:55] wakes up\n",
    "[1518-11-01 23:58] Guard #99 begins shift\n",
    "[1518-11-02 00:40] falls asleep\n",
    "[1518-11-02 00:50] wakes up\n",
    "[1518-11-03 00:05] Guard #10 begins shift\n",
    "[1518-11-03 00:24] falls asleep\n",
    "[1518-11-03 00:29] wakes up\n",
    "[1518-11-04 00:02] Guard #99 begins shift\n",
    "[1518-11-04 00:36] falls asleep\n",
    "[1518-11-04 00:46] wakes up\n",
    "[1518-11-05 00:03] Guard #99 begins shift\n",
    "[1518-11-05 00:45] falls asleep\n",
    "[1518-11-05 00:55] wakes up\n",
    "\"\"\"\n",
    "\n",
    "\n",
    "\n",
    "file_data = open('aoc_2018_4_sorted.txt', 'r').read()\n",
    "\n",
    "#data = file_data\n",
    "data = test_data\n",
    "\n",
    "# pre-sort reference datafile externally with sort command \n",
    "\n",
    "# data is already in chronological order\n",
    "\n",
    "g = {} # initialize new dict for indiv. guards\n",
    "start = 0\n",
    "end = 0\n",
    "for line in data.splitlines():\n",
    "    ts = line[1:17]\n",
    "    #print(ts)\n",
    "    dt = ts[0:10]\n",
    "    #print('date={}'.format(dt))\n",
    "    minute = ts[14:16]\n",
    "    #print('minute={}'.format(minute))\n",
    "    \n",
    "    action = line[19:]\n",
    "    #print(action)\n",
    "\n",
    "    if action.find('Guard') != -1:\n",
    "        g_num = action[7:9]\n",
    "        #print(\"new guard number = {} starts\".format(g_num))\n",
    "        if g_num not in g:\n",
    "            g[g_num] = {} # initialize new dict for indiv. dates\n",
    "\n",
    "    elif action.find('falls asleep') != -1:\n",
    "\n",
    "        start = int(minute)\n",
    "    elif action.find('wakes up') != -1:\n",
    "        end = int(minute)\n",
    "        if dt not in g[g_num]: # there can be multiple cycles of sleep and wakeup\n",
    "            g[g_num][dt] = [0] * 60\n",
    "        for i in range(start, end):\n",
    "            g[g_num][dt][i] = 1\n",
    "        \n",
    "#print(g)\n"
   ]
  },
  {
   "cell_type": "code",
   "execution_count": 6,
   "metadata": {},
   "outputs": [
    {
     "name": "stdout",
     "output_type": "stream",
     "text": [
      "guard = 10, max_min = 50\n",
      "minute_idx = 24, minute_freq = 2\n"
     ]
    }
   ],
   "source": [
    "# part 1:\n",
    "\n",
    "# total sleep time for each guard\n",
    "max_min = 0\n",
    "sel_g_id = 0\n",
    "for g_id in g: # guards\n",
    "    sum_min = 0\n",
    "    hist = [0] * 60\n",
    "    for dt in g[g_id]: # dates\n",
    "        #print(g[g_id][dt])\n",
    "        sum_min += sum(g[g_id][dt][:])\n",
    "        for i in range(0,60):\n",
    "            hist[i] += g[g_id][dt][i]\n",
    "    g[g_id]['hist'] = hist\n",
    "\n",
    "    #print(hist)\n",
    "    if sum_min > max_min:\n",
    "        max_min = sum_min\n",
    "        sel_g_id = g_id\n",
    "        \n",
    "print('guard = {}, max_min = {}'.format(sel_g_id, max_min))\n",
    "# find max index\n",
    "minute_idx = -1\n",
    "minute_freq = 0\n",
    "for i in range(0,60):\n",
    "    if minute_freq < g[sel_g_id]['hist'][i]:\n",
    "        minute_freq = g[sel_g_id]['hist'][i]\n",
    "        minute_idx = i\n",
    "print('minute_idx = {}, minute_freq = {}'.format(minute_idx, minute_freq))\n",
    "    "
   ]
  },
  {
   "cell_type": "code",
   "execution_count": 7,
   "metadata": {},
   "outputs": [
    {
     "data": {
      "text/plain": [
       "240"
      ]
     },
     "execution_count": 7,
     "metadata": {},
     "output_type": "execute_result"
    }
   ],
   "source": [
    "int(sel_g_id) * minute_idx"
   ]
  },
  {
   "cell_type": "code",
   "execution_count": null,
   "metadata": {},
   "outputs": [],
   "source": [
    "# shell script solution\n",
    "# $ sort aoc_2018_4.txt | awk -v FS=\"[\\]:# ]\" '/Guard/{g=$7}/falls/{s=$3}/wakes/{for(t=s;t<$3;++t){++zg[g];++zgt[g\",\"t]}}END{for(g in zg)if(zg[g]>zg[og])og=g;for(t=0;t<60;++t)if(zgt[og\",\"t]>zgt[og\",\"ot])ot=t;print og*ot}'\n",
    "# awk: warning: escape sequence `\\]' treated as plain `]'\n",
    "# 104764\n"
   ]
  },
  {
   "cell_type": "code",
   "execution_count": 10,
   "metadata": {},
   "outputs": [
    {
     "name": "stdout",
     "output_type": "stream",
     "text": [
      "10\n",
      "minute_idx = 24, minute_freq = 2\n",
      "99\n",
      "minute_idx = 45, minute_freq = 3\n"
     ]
    }
   ],
   "source": [
    "# part 2:\n",
    "# find max index\n",
    "minute_idx = -1\n",
    "minute_freq = 0\n",
    "for g_id in g: # guards\n",
    "  print(g_id)\n",
    "  for i in range(0,60):\n",
    "    if minute_freq < g[g_id]['hist'][i]:\n",
    "        minute_freq = g[g_id]['hist'][i]\n",
    "        minute_idx = i\n",
    "  print('minute_idx = {}, minute_freq = {}'.format(minute_idx, minute_freq))"
   ]
  },
  {
   "cell_type": "code",
   "execution_count": null,
   "metadata": {},
   "outputs": [],
   "source": [
    "# $ sort aoc_2018_4.txt | awk -v FS=\"[\\]:# ]\" '/Guard/{g=$7}/falls/{s=$3}/wakes/{for(t=s;t<$3;++t)++zgt[g\",\"t]}END{for(gt in zgt)if(zgt[gt]>zgt[ogt])ogt=gt;split(ogt,oa,\",\");print oa[1]*oa[2]}'\n",
    "# awk: warning: escape sequence `\\]' treated as plain `]'\n",
    "# 128617\n"
   ]
  }
 ],
 "metadata": {
  "kernelspec": {
   "display_name": "Python 3",
   "language": "python",
   "name": "python3"
  },
  "language_info": {
   "codemirror_mode": {
    "name": "ipython",
    "version": 3
   },
   "file_extension": ".py",
   "mimetype": "text/x-python",
   "name": "python",
   "nbconvert_exporter": "python",
   "pygments_lexer": "ipython3",
   "version": "3.7.6"
  }
 },
 "nbformat": 4,
 "nbformat_minor": 2
}
