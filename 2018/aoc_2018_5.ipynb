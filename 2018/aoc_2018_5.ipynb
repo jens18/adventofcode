{
 "cells": [
  {
   "cell_type": "code",
   "execution_count": 9,
   "metadata": {},
   "outputs": [
    {
     "name": "stdout",
     "output_type": "stream",
     "text": [
      "11540\n"
     ]
    }
   ],
   "source": [
    "test_data = 'dabAcCaCBAcCcaDA'\n",
    "\n",
    "file_data = open('aoc_2018_5.txt', 'r').read()\n",
    "    \n",
    "#in_data = test_data # 'in' is a python keyword ...\n",
    "in_data = file_data\n",
    "\n",
    "#print(in_data)\n",
    "\n",
    "# part 1:\n",
    "\n",
    "def find_match(a, b):\n",
    "    flip = a.upper()\n",
    "    if flip == a: # did upper flip the character or did it stay the same?\n",
    "        expect = a.lower()\n",
    "    else:\n",
    "        expect = flip\n",
    "        \n",
    "    if expect == b:\n",
    "        return True\n",
    "    else:\n",
    "        return False\n",
    "\n",
    "assert find_match('A', 'a') == True\n",
    "assert find_match('A', 'b') == False\n",
    "assert find_match('c', 'C') == True\n",
    "assert find_match('D', 'D') == False\n",
    "\n",
    "def reduce(in_data):\n",
    "  match_found = True\n",
    "  while match_found == True:\n",
    "    \n",
    "    out_data = ''\n",
    "    match_found = False\n",
    "    i = 0\n",
    "    \n",
    "    while i < len(in_data) -1:\n",
    "        #find_match(in_data[idx], in_data[idx+1])\n",
    "        #print(in_data[i], in_data[i+1])\n",
    "        if find_match(in_data[i], in_data[i+1]):\n",
    "            i += 2\n",
    "            #print(i, 'match', match_found)\n",
    "            match_found = True\n",
    "        else:\n",
    "            out_data += in_data[i]\n",
    "            i += 1\n",
    "            if i == len(in_data) - 1:\n",
    "               out_data += in_data[i]\n",
    "            #print(i, 'no match', match_found)\n",
    "        \n",
    "    #print(out_data, match_found)\n",
    "    in_data = out_data\n",
    "  return out_data\n",
    "\n",
    "reduce(in_data)\n",
    "print(len(out_data)) # correct answer: 11540"
   ]
  },
  {
   "cell_type": "code",
   "execution_count": 21,
   "metadata": {},
   "outputs": [
    {
     "name": "stdout",
     "output_type": "stream",
     "text": [
      "a wbFZ 11120\n",
      "b wFZM 6918\n",
      "c wbFZ 11136\n",
      "d wbFZ 11064\n",
      "e wbFZ 11104\n",
      "f wbZM 11060\n",
      "g wbFZ 11020\n",
      "h wbFZ 11050\n",
      "i wbFZ 11072\n",
      "j wbFZ 11113\n",
      "k wbFZ 11084\n",
      "l wbFZ 11100\n",
      "m wbFZ 11062\n",
      "n wbFZ 11088\n",
      "o wbFZ 11102\n",
      "p wbFZ 11081\n",
      "q wbFZ 11102\n",
      "r wbFZ 11065\n",
      "s wbFZ 11066\n",
      "t wbFZ 11078\n",
      "u wbFZ 11111\n",
      "v wbFZ 11078\n",
      "w bFZM 11099\n",
      "x wbFZ 11028\n",
      "y wbFZ 11102\n",
      "z wbFM 11090\n"
     ]
    }
   ],
   "source": [
    "# part 2:\n",
    "\n",
    "from string import ascii_lowercase\n",
    "\n",
    "test_data = 'dabAcCaCBAcCcaDA'\n",
    "\n",
    "file_data = open('aoc_2018_5.txt', 'r').read()\n",
    "    \n",
    "#in_data = test_data # 'in' is a python keyword ...\n",
    "in_data = file_data\n",
    "\n",
    "#print(in_data)\n",
    "\n",
    "def remove_letter(d, c, c_up):\n",
    "    out = ''\n",
    "    for i in d:\n",
    "        if i != c and i != c_up:\n",
    "            out += i\n",
    "    return out\n",
    "\n",
    "result={}\n",
    "for c in ascii_lowercase:\n",
    "     new_polymer = remove_letter(in_data, c, c.upper())\n",
    "     #print(c, new_polymer)\n",
    "    \n",
    "     reduced_polymer = reduce(new_polymer)\n",
    "     result[c] = [reduced_polymer, len(reduced_polymer)]\n",
    "\n",
    "for i in result.items():\n",
    "    print(i[0], i[1][0][:4], i[1][1]) # print only the first 4 characters # correct answer: 6918"
   ]
  },
  {
   "cell_type": "code",
   "execution_count": null,
   "metadata": {},
   "outputs": [],
   "source": []
  }
 ],
 "metadata": {
  "kernelspec": {
   "display_name": "Python 3",
   "language": "python",
   "name": "python3"
  },
  "language_info": {
   "codemirror_mode": {
    "name": "ipython",
    "version": 3
   },
   "file_extension": ".py",
   "mimetype": "text/x-python",
   "name": "python",
   "nbconvert_exporter": "python",
   "pygments_lexer": "ipython3",
   "version": "3.7.6"
  }
 },
 "nbformat": 4,
 "nbformat_minor": 2
}
